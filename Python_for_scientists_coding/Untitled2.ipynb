{
 "cells": [
  {
   "cell_type": "code",
   "execution_count": 22,
   "metadata": {},
   "outputs": [],
   "source": [
    "import numpy as np\n",
    "from numpy import linalg as LA"
   ]
  },
  {
   "cell_type": "code",
   "execution_count": 52,
   "metadata": {},
   "outputs": [],
   "source": [
    "w, v = LA.eigh(np.array ( [ \n",
    "    [ 0.68296, -0.0544289, 0.156674, 0.109521, 0.00968342], \n",
    "    [ 0.0544289, 2.62361, 0.0328034, -0.0146912, -0.039566 ], \n",
    "    [ 0.156674, -0.0328034, 11.5527, -0.825288, -0.0297809 ], \n",
    "    [ 0.109521, 0.0146912, -0.825288, 17.295, -0.0535238 ],\n",
    "    [-0.00968342, -0.039566, 0.0297809, 0.0535238, 17.9314] ] ) )"
   ]
  },
  {
   "cell_type": "code",
   "execution_count": 53,
   "metadata": {},
   "outputs": [
    {
     "data": {
      "text/plain": [
       "array([0.82356703, 1.62016233, 3.38216376, 4.17219375, 4.2351209 ])"
      ]
     },
     "execution_count": 53,
     "metadata": {},
     "output_type": "execute_result"
    }
   ],
   "source": [
    "np.sqrt(w)"
   ]
  },
  {
   "cell_type": "code",
   "execution_count": 54,
   "metadata": {
    "scrolled": true
   },
   "outputs": [
    {
     "data": {
      "text/plain": [
       "array([[ 9.99463613e-01, -2.81921587e-02, -1.58285852e-02,\n",
       "         5.20979213e-03, -4.61157840e-05],\n",
       "       [-2.81513361e-02, -9.99593871e-01,  3.32890241e-03,\n",
       "         1.55571613e-03, -2.46860247e-03],\n",
       "       [-1.50411128e-02, -3.07250941e-03, -9.90101727e-01,\n",
       "        -1.39318723e-01, -7.29296085e-03],\n",
       "       [-7.31136910e-03,  1.04813998e-03, -1.39300411e-01,\n",
       "         9.85899367e-01,  9.24298595e-02],\n",
       "       [ 5.45040599e-04, -2.59939199e-03,  5.68674521e-03,\n",
       "        -9.25373943e-02,  9.95689428e-01]])"
      ]
     },
     "execution_count": 54,
     "metadata": {},
     "output_type": "execute_result"
    }
   ],
   "source": [
    "v"
   ]
  },
  {
   "cell_type": "code",
   "execution_count": null,
   "metadata": {},
   "outputs": [],
   "source": []
  }
 ],
 "metadata": {
  "kernelspec": {
   "display_name": "Python 3",
   "language": "python",
   "name": "python3"
  },
  "language_info": {
   "codemirror_mode": {
    "name": "ipython",
    "version": 3
   },
   "file_extension": ".py",
   "mimetype": "text/x-python",
   "name": "python",
   "nbconvert_exporter": "python",
   "pygments_lexer": "ipython3",
   "version": "3.7.6"
  }
 },
 "nbformat": 4,
 "nbformat_minor": 2
}
