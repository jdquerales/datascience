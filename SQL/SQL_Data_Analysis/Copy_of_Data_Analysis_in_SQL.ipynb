{
  "nbformat": 4,
  "nbformat_minor": 0,
  "metadata": {
    "colab": {
      "name": "Copy of Data Analysis in SQL.ipynb",
      "provenance": []
    },
    "kernelspec": {
      "name": "python3",
      "display_name": "Python 3"
    }
  },
  "cells": [
    {
      "cell_type": "markdown",
      "metadata": {
        "id": "tnjoHnXBnlof",
        "colab_type": "text"
      },
      "source": [
        "<p align=\"center\">\n",
        "<img src=\"https://github.com/datacamp/data-analysis-in-sql-live-session/blob/master/assets/datacamp.svg?raw=True\" alt = \"DataCamp icon\" width=\"50%\">\n",
        "</p>\n",
        "<br><br>\n",
        "\n",
        "## **Data Analysis with SQL**\n",
        "\n",
        "In this webinar, you'll learn how to write advanced queries to calculate core business metrics and KPIs. You'll be able to:\n",
        "\n",
        "* Use Common Table Expressions to temporarily store a query's results\n",
        "* Fetch values from different rows using window functinos\n",
        "* Use self-joins to peak into the future\n",
        "\n",
        "## **The Dataset**\n",
        "\n",
        "\n",
        "We'll use two tables. The first, `user_sessions`, stores data user session data on a social media website. The table's schema is as follows:\n",
        "\n",
        "- `session_date`: The date on which the user accessed the site\n",
        "- `user_id`: The user's unique identifier\n",
        "- `time_spent_in_mins`: How much time the user spent on the site\n",
        "\n",
        "The second, `user_data`, stores the users' metadata. The table's schema is as follows:\n",
        "\n",
        "- `user_id`: The user's unique identifier\n",
        "- `country`: The user's country\n",
        "- `age`: The user's age\n"
      ]
    },
    {
      "cell_type": "markdown",
      "metadata": {
        "id": "agoSpqYunxZ1",
        "colab_type": "text"
      },
      "source": [
        "## **Setting up PostgreSQL**"
      ]
    },
    {
      "cell_type": "code",
      "metadata": {
        "id": "WZ-Rqu2yoCzR",
        "colab_type": "code",
        "colab": {}
      },
      "source": [
        "#@title **This block of code will install PosgreSQL**\n",
        "%%capture\n",
        "!wget -qO- https://www.postgresql.org/media/keys/ACCC4CF8.asc | apt-key add -\n",
        "!echo \"deb http://apt.postgresql.org/pub/repos/apt/ bionic-pgdg main\" >/etc/apt/sources.list.d/pgdg.list\n",
        "!apt -qq update\n",
        "!apt -yq install postgresql-12 postgresql-client-12\n",
        "!service postgresql start\n",
        "# make calling psql shorter\n",
        "!sudo -u postgres psql -c \"CREATE USER root WITH SUPERUSER\"  \n",
        "!psql postgres -c \"CREATE DATABASE root\"  # now just !psql -c \"...\"\n",
        "# load SQL extensions\n",
        "%load_ext sql\n",
        "%config SqlMagic.feedback=False \n",
        "%config SqlMagic.autopandas=True\n",
        "%sql postgresql+psycopg2://@/postgres"
      ],
      "execution_count": null,
      "outputs": []
    },
    {
      "cell_type": "code",
      "metadata": {
        "id": "5spm-fLTn7oP",
        "colab_type": "code",
        "colab": {}
      },
      "source": [
        "#@title **This will download your data to local environment**\n",
        "!wget -q https://github.com/datacamp/data-analysis-in-sql-live-training/raw/master/data/user_data.csv\n",
        "!wget -q https://github.com/datacamp/data-analysis-in-sql-live-training/raw/master/data/user_metadata.csv"
      ],
      "execution_count": null,
      "outputs": []
    },
    {
      "cell_type": "code",
      "metadata": {
        "id": "4fiq0KKsokAX",
        "colab_type": "code",
        "colab": {
          "base_uri": "https://localhost:8080/",
          "height": 49
        },
        "outputId": "792525b6-4d65-4276-a14c-452da2ef416f"
      },
      "source": [
        "#@title **This will create your table**\n",
        "%%sql\n",
        "-- Make sure to amend you table name, column names and types\n",
        "DROP TABLE IF EXISTS user_sessions;\n",
        "CREATE TABLE user_sessions(\n",
        " session_date date,\n",
        " user_id int,\n",
        " time_spent_in_mins int\n",
        ");\n",
        "\n",
        "COPY user_sessions\n",
        "-- Make sure to point to correct file and delimiter \n",
        "FROM '/content/user_data.csv' DELIMITER ',' CSV HEADER;\n",
        "\n",
        "DROP TABLE IF EXISTS user_data;\n",
        "CREATE TABLE user_data(\n",
        " user_id int,\n",
        " country char(3),\n",
        " age int\n",
        ");\n",
        "\n",
        "COPY user_data\n",
        "-- Make sure to point to correct file and delimiter \n",
        "FROM '/content/user_metadata.csv' DELIMITER ',' CSV HEADER;"
      ],
      "execution_count": null,
      "outputs": [
        {
          "output_type": "stream",
          "text": [
            " * postgresql+psycopg2://@/postgres\n"
          ],
          "name": "stdout"
        },
        {
          "output_type": "execute_result",
          "data": {
            "text/html": [
              "<div>\n",
              "<style scoped>\n",
              "    .dataframe tbody tr th:only-of-type {\n",
              "        vertical-align: middle;\n",
              "    }\n",
              "\n",
              "    .dataframe tbody tr th {\n",
              "        vertical-align: top;\n",
              "    }\n",
              "\n",
              "    .dataframe thead th {\n",
              "        text-align: right;\n",
              "    }\n",
              "</style>\n",
              "<table border=\"1\" class=\"dataframe\">\n",
              "  <thead>\n",
              "    <tr style=\"text-align: right;\">\n",
              "      <th></th>\n",
              "    </tr>\n",
              "  </thead>\n",
              "  <tbody>\n",
              "  </tbody>\n",
              "</table>\n",
              "</div>"
            ],
            "text/plain": [
              "Empty DataFrame\n",
              "Columns: []\n",
              "Index: []"
            ]
          },
          "metadata": {
            "tags": []
          },
          "execution_count": 4
        }
      ]
    },
    {
      "cell_type": "markdown",
      "metadata": {
        "id": "tS_PlDcnNaaD",
        "colab_type": "text"
      },
      "source": [
        "Let's start by exploring the tables."
      ]
    },
    {
      "cell_type": "code",
      "metadata": {
        "id": "KpFHkiwIo8KW",
        "colab_type": "code",
        "colab": {
          "base_uri": "https://localhost:8080/",
          "height": 221
        },
        "outputId": "c4c5696c-cbea-491a-8ebc-47aba3639961"
      },
      "source": [
        "%%sql\n",
        "\n",
        "-- SELECT first 5 rows from user_sessions\n",
        "SELECT *\n",
        "FROM user_sessions\n",
        "LIMIT 5;"
      ],
      "execution_count": null,
      "outputs": [
        {
          "output_type": "stream",
          "text": [
            " * postgresql+psycopg2://@/postgres\n"
          ],
          "name": "stdout"
        },
        {
          "output_type": "execute_result",
          "data": {
            "text/html": [
              "<div>\n",
              "<style scoped>\n",
              "    .dataframe tbody tr th:only-of-type {\n",
              "        vertical-align: middle;\n",
              "    }\n",
              "\n",
              "    .dataframe tbody tr th {\n",
              "        vertical-align: top;\n",
              "    }\n",
              "\n",
              "    .dataframe thead th {\n",
              "        text-align: right;\n",
              "    }\n",
              "</style>\n",
              "<table border=\"1\" class=\"dataframe\">\n",
              "  <thead>\n",
              "    <tr style=\"text-align: right;\">\n",
              "      <th></th>\n",
              "      <th>session_date</th>\n",
              "      <th>user_id</th>\n",
              "      <th>time_spent_in_mins</th>\n",
              "    </tr>\n",
              "  </thead>\n",
              "  <tbody>\n",
              "    <tr>\n",
              "      <th>0</th>\n",
              "      <td>2020-01-01</td>\n",
              "      <td>1</td>\n",
              "      <td>127</td>\n",
              "    </tr>\n",
              "    <tr>\n",
              "      <th>1</th>\n",
              "      <td>2020-01-01</td>\n",
              "      <td>2</td>\n",
              "      <td>147</td>\n",
              "    </tr>\n",
              "    <tr>\n",
              "      <th>2</th>\n",
              "      <td>2020-01-01</td>\n",
              "      <td>5</td>\n",
              "      <td>106</td>\n",
              "    </tr>\n",
              "    <tr>\n",
              "      <th>3</th>\n",
              "      <td>2020-01-01</td>\n",
              "      <td>6</td>\n",
              "      <td>179</td>\n",
              "    </tr>\n",
              "    <tr>\n",
              "      <th>4</th>\n",
              "      <td>2020-01-01</td>\n",
              "      <td>7</td>\n",
              "      <td>143</td>\n",
              "    </tr>\n",
              "  </tbody>\n",
              "</table>\n",
              "</div>"
            ],
            "text/plain": [
              "  session_date  user_id  time_spent_in_mins\n",
              "0   2020-01-01        1                 127\n",
              "1   2020-01-01        2                 147\n",
              "2   2020-01-01        5                 106\n",
              "3   2020-01-01        6                 179\n",
              "4   2020-01-01        7                 143"
            ]
          },
          "metadata": {
            "tags": []
          },
          "execution_count": 5
        }
      ]
    },
    {
      "cell_type": "code",
      "metadata": {
        "id": "Rq6u7Nk4bPMy",
        "colab_type": "code",
        "colab": {
          "base_uri": "https://localhost:8080/",
          "height": 221
        },
        "outputId": "9c4ae57d-bcc6-48f9-abfd-4bd569dcbb91"
      },
      "source": [
        "%%sql\n",
        "\n",
        "-- SELECT first 5 rows from user_data\n",
        "\n",
        "SELECT *\n",
        "FROM user_data\n",
        "LIMIT 5;"
      ],
      "execution_count": null,
      "outputs": [
        {
          "output_type": "stream",
          "text": [
            " * postgresql+psycopg2://@/postgres\n"
          ],
          "name": "stdout"
        },
        {
          "output_type": "execute_result",
          "data": {
            "text/html": [
              "<div>\n",
              "<style scoped>\n",
              "    .dataframe tbody tr th:only-of-type {\n",
              "        vertical-align: middle;\n",
              "    }\n",
              "\n",
              "    .dataframe tbody tr th {\n",
              "        vertical-align: top;\n",
              "    }\n",
              "\n",
              "    .dataframe thead th {\n",
              "        text-align: right;\n",
              "    }\n",
              "</style>\n",
              "<table border=\"1\" class=\"dataframe\">\n",
              "  <thead>\n",
              "    <tr style=\"text-align: right;\">\n",
              "      <th></th>\n",
              "      <th>user_id</th>\n",
              "      <th>country</th>\n",
              "      <th>age</th>\n",
              "    </tr>\n",
              "  </thead>\n",
              "  <tbody>\n",
              "    <tr>\n",
              "      <th>0</th>\n",
              "      <td>0</td>\n",
              "      <td>GER</td>\n",
              "      <td>23</td>\n",
              "    </tr>\n",
              "    <tr>\n",
              "      <th>1</th>\n",
              "      <td>1</td>\n",
              "      <td>IND</td>\n",
              "      <td>23</td>\n",
              "    </tr>\n",
              "    <tr>\n",
              "      <th>2</th>\n",
              "      <td>2</td>\n",
              "      <td>IND</td>\n",
              "      <td>43</td>\n",
              "    </tr>\n",
              "    <tr>\n",
              "      <th>3</th>\n",
              "      <td>3</td>\n",
              "      <td>GER</td>\n",
              "      <td>22</td>\n",
              "    </tr>\n",
              "    <tr>\n",
              "      <th>4</th>\n",
              "      <td>4</td>\n",
              "      <td>JPN</td>\n",
              "      <td>47</td>\n",
              "    </tr>\n",
              "  </tbody>\n",
              "</table>\n",
              "</div>"
            ],
            "text/plain": [
              "   user_id country  age\n",
              "0        0     GER   23\n",
              "1        1     IND   23\n",
              "2        2     IND   43\n",
              "3        3     GER   22\n",
              "4        4     JPN   47"
            ]
          },
          "metadata": {
            "tags": []
          },
          "execution_count": 6
        }
      ]
    },
    {
      "cell_type": "code",
      "metadata": {
        "id": "XV--Ei96bUR_",
        "colab_type": "code",
        "colab": {
          "base_uri": "https://localhost:8080/",
          "height": 221
        },
        "outputId": "42ada5f2-f2bd-4cdb-84aa-4d166079c366"
      },
      "source": [
        "%%sql\n",
        "\n",
        "-- Join the two tables together\n",
        "SELECT \n",
        "  *\n",
        "FROM user_sessions\n",
        "JOIN user_data ON user_sessions.user_id = user_data.user_id\n",
        "LIMIT 5"
      ],
      "execution_count": null,
      "outputs": [
        {
          "output_type": "stream",
          "text": [
            " * postgresql+psycopg2://@/postgres\n"
          ],
          "name": "stdout"
        },
        {
          "output_type": "execute_result",
          "data": {
            "text/html": [
              "<div>\n",
              "<style scoped>\n",
              "    .dataframe tbody tr th:only-of-type {\n",
              "        vertical-align: middle;\n",
              "    }\n",
              "\n",
              "    .dataframe tbody tr th {\n",
              "        vertical-align: top;\n",
              "    }\n",
              "\n",
              "    .dataframe thead th {\n",
              "        text-align: right;\n",
              "    }\n",
              "</style>\n",
              "<table border=\"1\" class=\"dataframe\">\n",
              "  <thead>\n",
              "    <tr style=\"text-align: right;\">\n",
              "      <th></th>\n",
              "      <th>session_date</th>\n",
              "      <th>user_id</th>\n",
              "      <th>time_spent_in_mins</th>\n",
              "      <th>user_id</th>\n",
              "      <th>country</th>\n",
              "      <th>age</th>\n",
              "    </tr>\n",
              "  </thead>\n",
              "  <tbody>\n",
              "    <tr>\n",
              "      <th>0</th>\n",
              "      <td>2020-01-01</td>\n",
              "      <td>1</td>\n",
              "      <td>127</td>\n",
              "      <td>1</td>\n",
              "      <td>IND</td>\n",
              "      <td>23</td>\n",
              "    </tr>\n",
              "    <tr>\n",
              "      <th>1</th>\n",
              "      <td>2020-01-01</td>\n",
              "      <td>2</td>\n",
              "      <td>147</td>\n",
              "      <td>2</td>\n",
              "      <td>IND</td>\n",
              "      <td>43</td>\n",
              "    </tr>\n",
              "    <tr>\n",
              "      <th>2</th>\n",
              "      <td>2020-01-01</td>\n",
              "      <td>5</td>\n",
              "      <td>106</td>\n",
              "      <td>5</td>\n",
              "      <td>GER</td>\n",
              "      <td>52</td>\n",
              "    </tr>\n",
              "    <tr>\n",
              "      <th>3</th>\n",
              "      <td>2020-01-01</td>\n",
              "      <td>6</td>\n",
              "      <td>179</td>\n",
              "      <td>6</td>\n",
              "      <td>GER</td>\n",
              "      <td>46</td>\n",
              "    </tr>\n",
              "    <tr>\n",
              "      <th>4</th>\n",
              "      <td>2020-01-01</td>\n",
              "      <td>7</td>\n",
              "      <td>143</td>\n",
              "      <td>7</td>\n",
              "      <td>GBR</td>\n",
              "      <td>59</td>\n",
              "    </tr>\n",
              "  </tbody>\n",
              "</table>\n",
              "</div>"
            ],
            "text/plain": [
              "  session_date  user_id  time_spent_in_mins  user_id country  age\n",
              "0   2020-01-01        1                 127        1     IND   23\n",
              "1   2020-01-01        2                 147        2     IND   43\n",
              "2   2020-01-01        5                 106        5     GER   52\n",
              "3   2020-01-01        6                 179        6     GER   46\n",
              "4   2020-01-01        7                 143        7     GBR   59"
            ]
          },
          "metadata": {
            "tags": []
          },
          "execution_count": 8
        }
      ]
    },
    {
      "cell_type": "markdown",
      "metadata": {
        "id": "aSsGfK7vbcni",
        "colab_type": "text"
      },
      "source": [
        "## **Data overview**\n",
        "\n",
        "Since you have user demographics, you can start by exploring some basic metrics, like:\n",
        "\n",
        "- Average age per country\n",
        "- User count by country"
      ]
    },
    {
      "cell_type": "code",
      "metadata": {
        "id": "YpSQucA8b7Eb",
        "colab_type": "code",
        "colab": {
          "base_uri": "https://localhost:8080/",
          "height": 314
        },
        "outputId": "61f58ba8-c637-46d5-f856-28649186dcdb"
      },
      "source": [
        "%%sql\n",
        "\n",
        "-- Get the average age per country\n",
        "SELECT \n",
        "    country,\n",
        "    ROUND(AVG(age), 2) AS avg_age\n",
        "FROM user_data\n",
        "GROUP BY country;\n"
      ],
      "execution_count": null,
      "outputs": [
        {
          "output_type": "stream",
          "text": [
            " * postgresql+psycopg2://@/postgres\n"
          ],
          "name": "stdout"
        },
        {
          "output_type": "execute_result",
          "data": {
            "text/html": [
              "<div>\n",
              "<style scoped>\n",
              "    .dataframe tbody tr th:only-of-type {\n",
              "        vertical-align: middle;\n",
              "    }\n",
              "\n",
              "    .dataframe tbody tr th {\n",
              "        vertical-align: top;\n",
              "    }\n",
              "\n",
              "    .dataframe thead th {\n",
              "        text-align: right;\n",
              "    }\n",
              "</style>\n",
              "<table border=\"1\" class=\"dataframe\">\n",
              "  <thead>\n",
              "    <tr style=\"text-align: right;\">\n",
              "      <th></th>\n",
              "      <th>country</th>\n",
              "      <th>avg_age</th>\n",
              "    </tr>\n",
              "  </thead>\n",
              "  <tbody>\n",
              "    <tr>\n",
              "      <th>0</th>\n",
              "      <td>JPN</td>\n",
              "      <td>41.78</td>\n",
              "    </tr>\n",
              "    <tr>\n",
              "      <th>1</th>\n",
              "      <td>IND</td>\n",
              "      <td>42.27</td>\n",
              "    </tr>\n",
              "    <tr>\n",
              "      <th>2</th>\n",
              "      <td>FRA</td>\n",
              "      <td>41.38</td>\n",
              "    </tr>\n",
              "    <tr>\n",
              "      <th>3</th>\n",
              "      <td>RUS</td>\n",
              "      <td>40.85</td>\n",
              "    </tr>\n",
              "    <tr>\n",
              "      <th>4</th>\n",
              "      <td>CHN</td>\n",
              "      <td>40.25</td>\n",
              "    </tr>\n",
              "    <tr>\n",
              "      <th>5</th>\n",
              "      <td>GBR</td>\n",
              "      <td>42.12</td>\n",
              "    </tr>\n",
              "    <tr>\n",
              "      <th>6</th>\n",
              "      <td>GER</td>\n",
              "      <td>41.49</td>\n",
              "    </tr>\n",
              "    <tr>\n",
              "      <th>7</th>\n",
              "      <td>USA</td>\n",
              "      <td>41.30</td>\n",
              "    </tr>\n",
              "  </tbody>\n",
              "</table>\n",
              "</div>"
            ],
            "text/plain": [
              "  country avg_age\n",
              "0     JPN   41.78\n",
              "1     IND   42.27\n",
              "2     FRA   41.38\n",
              "3     RUS   40.85\n",
              "4     CHN   40.25\n",
              "5     GBR   42.12\n",
              "6     GER   41.49\n",
              "7     USA   41.30"
            ]
          },
          "metadata": {
            "tags": []
          },
          "execution_count": 10
        }
      ]
    },
    {
      "cell_type": "code",
      "metadata": {
        "id": "t_-xNWficNTF",
        "colab_type": "code",
        "colab": {
          "base_uri": "https://localhost:8080/",
          "height": 314
        },
        "outputId": "65542e2b-a4c3-464c-c378-074225a14a13"
      },
      "source": [
        "%%sql\n",
        "\n",
        "-- Get the user count by country \n",
        "SELECT \n",
        "    country,\n",
        "    COUNT(DISTINCT user_id) AS users\n",
        "FROM user_data\n",
        "GROUP BY country;"
      ],
      "execution_count": null,
      "outputs": [
        {
          "output_type": "stream",
          "text": [
            " * postgresql+psycopg2://@/postgres\n"
          ],
          "name": "stdout"
        },
        {
          "output_type": "execute_result",
          "data": {
            "text/html": [
              "<div>\n",
              "<style scoped>\n",
              "    .dataframe tbody tr th:only-of-type {\n",
              "        vertical-align: middle;\n",
              "    }\n",
              "\n",
              "    .dataframe tbody tr th {\n",
              "        vertical-align: top;\n",
              "    }\n",
              "\n",
              "    .dataframe thead th {\n",
              "        text-align: right;\n",
              "    }\n",
              "</style>\n",
              "<table border=\"1\" class=\"dataframe\">\n",
              "  <thead>\n",
              "    <tr style=\"text-align: right;\">\n",
              "      <th></th>\n",
              "      <th>country</th>\n",
              "      <th>users</th>\n",
              "    </tr>\n",
              "  </thead>\n",
              "  <tbody>\n",
              "    <tr>\n",
              "      <th>0</th>\n",
              "      <td>CHN</td>\n",
              "      <td>245</td>\n",
              "    </tr>\n",
              "    <tr>\n",
              "      <th>1</th>\n",
              "      <td>FRA</td>\n",
              "      <td>227</td>\n",
              "    </tr>\n",
              "    <tr>\n",
              "      <th>2</th>\n",
              "      <td>GBR</td>\n",
              "      <td>266</td>\n",
              "    </tr>\n",
              "    <tr>\n",
              "      <th>3</th>\n",
              "      <td>GER</td>\n",
              "      <td>247</td>\n",
              "    </tr>\n",
              "    <tr>\n",
              "      <th>4</th>\n",
              "      <td>IND</td>\n",
              "      <td>289</td>\n",
              "    </tr>\n",
              "    <tr>\n",
              "      <th>5</th>\n",
              "      <td>JPN</td>\n",
              "      <td>276</td>\n",
              "    </tr>\n",
              "    <tr>\n",
              "      <th>6</th>\n",
              "      <td>RUS</td>\n",
              "      <td>248</td>\n",
              "    </tr>\n",
              "    <tr>\n",
              "      <th>7</th>\n",
              "      <td>USA</td>\n",
              "      <td>263</td>\n",
              "    </tr>\n",
              "  </tbody>\n",
              "</table>\n",
              "</div>"
            ],
            "text/plain": [
              "  country  users\n",
              "0     CHN    245\n",
              "1     FRA    227\n",
              "2     GBR    266\n",
              "3     GER    247\n",
              "4     IND    289\n",
              "5     JPN    276\n",
              "6     RUS    248\n",
              "7     USA    263"
            ]
          },
          "metadata": {
            "tags": []
          },
          "execution_count": 16
        }
      ]
    },
    {
      "cell_type": "markdown",
      "metadata": {
        "id": "kExFC7LQccxC",
        "colab_type": "text"
      },
      "source": [
        "## **Active users**\n",
        "\n",
        "The active users KPI counts the active users of a company's app over a certain time period:\n",
        "- by day (daily active users, or DAU)\n",
        "- by month (monthly active users, or MAU)\n",
        "\n",
        "For example, Facebook had 1.76B DAU and 2.6 MAU in March.\n",
        "\n",
        "Stickiness (DAU / MAU) measures how often users engage with an app on average. Facebook's stickiness for March was `1.76B / 2.6B ~= 0.677`, meaning that, on average, users used Facebook for `67.7% x 30 days ~= 20` days each month.\n",
        "\n",
        "To get the daily active users, we need to count the number of unique `user_id`s for each `session_date`"
      ]
    },
    {
      "cell_type": "code",
      "metadata": {
        "id": "9ko0H5pSmC-f",
        "colab_type": "code",
        "colab": {
          "base_uri": "https://localhost:8080/",
          "height": 436
        },
        "outputId": "33e1d9a8-4d76-4257-bd76-7bf2c6a68587"
      },
      "source": [
        "%%sql\n",
        "\n",
        "-- Calculate the Daily Active Users (DAU)\n",
        "SELECT \n",
        "  session_date,\n",
        "  COUNT(DISTINCT user_id) AS users\n",
        "FROM user_sessions\n",
        "GROUP BY session_date\n",
        "ORDER BY session_date ASC; \n"
      ],
      "execution_count": null,
      "outputs": [
        {
          "output_type": "stream",
          "text": [
            " * postgresql+psycopg2://@/postgres\n"
          ],
          "name": "stdout"
        },
        {
          "output_type": "execute_result",
          "data": {
            "text/html": [
              "<div>\n",
              "<style scoped>\n",
              "    .dataframe tbody tr th:only-of-type {\n",
              "        vertical-align: middle;\n",
              "    }\n",
              "\n",
              "    .dataframe tbody tr th {\n",
              "        vertical-align: top;\n",
              "    }\n",
              "\n",
              "    .dataframe thead th {\n",
              "        text-align: right;\n",
              "    }\n",
              "</style>\n",
              "<table border=\"1\" class=\"dataframe\">\n",
              "  <thead>\n",
              "    <tr style=\"text-align: right;\">\n",
              "      <th></th>\n",
              "      <th>session_date</th>\n",
              "      <th>users</th>\n",
              "    </tr>\n",
              "  </thead>\n",
              "  <tbody>\n",
              "    <tr>\n",
              "      <th>0</th>\n",
              "      <td>2020-01-01</td>\n",
              "      <td>777</td>\n",
              "    </tr>\n",
              "    <tr>\n",
              "      <th>1</th>\n",
              "      <td>2020-01-02</td>\n",
              "      <td>755</td>\n",
              "    </tr>\n",
              "    <tr>\n",
              "      <th>2</th>\n",
              "      <td>2020-01-03</td>\n",
              "      <td>786</td>\n",
              "    </tr>\n",
              "    <tr>\n",
              "      <th>3</th>\n",
              "      <td>2020-01-04</td>\n",
              "      <td>760</td>\n",
              "    </tr>\n",
              "    <tr>\n",
              "      <th>4</th>\n",
              "      <td>2020-01-05</td>\n",
              "      <td>749</td>\n",
              "    </tr>\n",
              "    <tr>\n",
              "      <th>...</th>\n",
              "      <td>...</td>\n",
              "      <td>...</td>\n",
              "    </tr>\n",
              "    <tr>\n",
              "      <th>147</th>\n",
              "      <td>2020-05-27</td>\n",
              "      <td>1034</td>\n",
              "    </tr>\n",
              "    <tr>\n",
              "      <th>148</th>\n",
              "      <td>2020-05-28</td>\n",
              "      <td>1066</td>\n",
              "    </tr>\n",
              "    <tr>\n",
              "      <th>149</th>\n",
              "      <td>2020-05-29</td>\n",
              "      <td>1023</td>\n",
              "    </tr>\n",
              "    <tr>\n",
              "      <th>150</th>\n",
              "      <td>2020-05-30</td>\n",
              "      <td>1050</td>\n",
              "    </tr>\n",
              "    <tr>\n",
              "      <th>151</th>\n",
              "      <td>2020-05-31</td>\n",
              "      <td>1038</td>\n",
              "    </tr>\n",
              "  </tbody>\n",
              "</table>\n",
              "<p>152 rows × 2 columns</p>\n",
              "</div>"
            ],
            "text/plain": [
              "    session_date  users\n",
              "0     2020-01-01    777\n",
              "1     2020-01-02    755\n",
              "2     2020-01-03    786\n",
              "3     2020-01-04    760\n",
              "4     2020-01-05    749\n",
              "..           ...    ...\n",
              "147   2020-05-27   1034\n",
              "148   2020-05-28   1066\n",
              "149   2020-05-29   1023\n",
              "150   2020-05-30   1050\n",
              "151   2020-05-31   1038\n",
              "\n",
              "[152 rows x 2 columns]"
            ]
          },
          "metadata": {
            "tags": []
          },
          "execution_count": 22
        }
      ]
    },
    {
      "cell_type": "markdown",
      "metadata": {
        "id": "bYTwPy06qVzu",
        "colab_type": "text"
      },
      "source": [
        "This is what the results would look like when visualized:\n",
        "\n",
        "![Facespace DAU](https://github.com/datacamp/data-analysis-in-sql-live-training/raw/master/assets/facespace_dau.png)"
      ]
    },
    {
      "cell_type": "markdown",
      "metadata": {
        "id": "zkNmzkIHh-6e",
        "colab_type": "text"
      },
      "source": [
        "## **Monthly active users**\n",
        "\n",
        "Usually, reports include MAU, not DAU. How do you convert the session dates to months?\n",
        "\n",
        "**Enter `DATE_TRUNC`**\n",
        "\n",
        "`DATE_TRUNC(date_part, date) → DATE`: Truncates `date` to the nearest `date_part`.\n",
        "\n",
        "**Examples**\n",
        "- `DATE_TRUNC('week', '2018-06-12') :: DATE` → `'2018-06-11'`\n",
        "- `DATE_TRUNC('month', '2018-06-12') :: DATE` → `'2018-06-01'`\n",
        "- `DATE_TRUNC('quarter', '2018-06-12') :: DATE` → `'2018-04-01'`\n",
        "- `DATE_TRUNC('year', '2018-06-12') :: DATE` → `'2018-01-01'`\n",
        "\n",
        "**Note**: `:: DATE` is just to remove the hours, minutes, and seconds."
      ]
    },
    {
      "cell_type": "code",
      "metadata": {
        "id": "VNsxnr0cmSLV",
        "colab_type": "code",
        "colab": {
          "base_uri": "https://localhost:8080/",
          "height": 221
        },
        "outputId": "c1282111-d42d-4622-f436-00db79d5e990"
      },
      "source": [
        "%%sql\n",
        "\n",
        "-- Calculate the Monthly Active Users (DAU)\n",
        "SELECT DISTINCT\n",
        "   DATE_TRUNC('month', session_date) :: DATE AS session_month,\n",
        "   COUNT(DISTINCT user_id) AS users\n",
        "FROM user_sessions\n",
        "GROUP BY session_month \n",
        "ORDER BY session_month ASC;"
      ],
      "execution_count": null,
      "outputs": [
        {
          "output_type": "stream",
          "text": [
            " * postgresql+psycopg2://@/postgres\n"
          ],
          "name": "stdout"
        },
        {
          "output_type": "execute_result",
          "data": {
            "text/html": [
              "<div>\n",
              "<style scoped>\n",
              "    .dataframe tbody tr th:only-of-type {\n",
              "        vertical-align: middle;\n",
              "    }\n",
              "\n",
              "    .dataframe tbody tr th {\n",
              "        vertical-align: top;\n",
              "    }\n",
              "\n",
              "    .dataframe thead th {\n",
              "        text-align: right;\n",
              "    }\n",
              "</style>\n",
              "<table border=\"1\" class=\"dataframe\">\n",
              "  <thead>\n",
              "    <tr style=\"text-align: right;\">\n",
              "      <th></th>\n",
              "      <th>session_month</th>\n",
              "      <th>users</th>\n",
              "    </tr>\n",
              "  </thead>\n",
              "  <tbody>\n",
              "    <tr>\n",
              "      <th>0</th>\n",
              "      <td>2020-01-01</td>\n",
              "      <td>1472</td>\n",
              "    </tr>\n",
              "    <tr>\n",
              "      <th>1</th>\n",
              "      <td>2020-02-01</td>\n",
              "      <td>1621</td>\n",
              "    </tr>\n",
              "    <tr>\n",
              "      <th>2</th>\n",
              "      <td>2020-03-01</td>\n",
              "      <td>1723</td>\n",
              "    </tr>\n",
              "    <tr>\n",
              "      <th>3</th>\n",
              "      <td>2020-04-01</td>\n",
              "      <td>1879</td>\n",
              "    </tr>\n",
              "    <tr>\n",
              "      <th>4</th>\n",
              "      <td>2020-05-01</td>\n",
              "      <td>1995</td>\n",
              "    </tr>\n",
              "  </tbody>\n",
              "</table>\n",
              "</div>"
            ],
            "text/plain": [
              "  session_month  users\n",
              "0    2020-01-01   1472\n",
              "1    2020-02-01   1621\n",
              "2    2020-03-01   1723\n",
              "3    2020-04-01   1879\n",
              "4    2020-05-01   1995"
            ]
          },
          "metadata": {
            "tags": []
          },
          "execution_count": 28
        }
      ]
    },
    {
      "cell_type": "markdown",
      "metadata": {
        "id": "qFI164WOqpm_",
        "colab_type": "text"
      },
      "source": [
        "This is what the results would look like when visualized:\n",
        "\n",
        "![Facebook MAU](https://github.com/datacamp/data-analysis-in-sql-live-training/raw/master/assets/facespace_mau.png)"
      ]
    },
    {
      "cell_type": "markdown",
      "metadata": {
        "id": "1fJ5XosE4spe",
        "colab_type": "text"
      },
      "source": [
        "## **Q&A**"
      ]
    },
    {
      "cell_type": "markdown",
      "metadata": {
        "id": "Mig_YapOkBpv",
        "colab_type": "text"
      },
      "source": [
        "## **Registration dates**\n",
        "\n",
        "Let's define the user's registration date as the date of that user's first session.\n",
        "\n",
        "So, each user's registration date is the minimum session date for that user in the `user_sessions` table.\n",
        "\n",
        "We'll use these results later on to calculate the growth in registrations."
      ]
    },
    {
      "cell_type": "code",
      "metadata": {
        "id": "9yyYTFcWkXCq",
        "colab_type": "code",
        "colab": {
          "base_uri": "https://localhost:8080/",
          "height": 436
        },
        "outputId": "7fae2c13-a028-4495-efb2-e7abb3f4aa3c"
      },
      "source": [
        "%%sql\n",
        "\n",
        "-- Get each user's registration date\n",
        "SELECT \n",
        "  user_id,\n",
        "  MIN(session_date) AS registration_date\n",
        "FROM user_sessions\n",
        "GROUP BY user_id\n",
        "ORDER BY registration_date ASC, user_id ASC;\n"
      ],
      "execution_count": null,
      "outputs": [
        {
          "output_type": "stream",
          "text": [
            " * postgresql+psycopg2://@/postgres\n"
          ],
          "name": "stdout"
        },
        {
          "output_type": "execute_result",
          "data": {
            "text/html": [
              "<div>\n",
              "<style scoped>\n",
              "    .dataframe tbody tr th:only-of-type {\n",
              "        vertical-align: middle;\n",
              "    }\n",
              "\n",
              "    .dataframe tbody tr th {\n",
              "        vertical-align: top;\n",
              "    }\n",
              "\n",
              "    .dataframe thead th {\n",
              "        text-align: right;\n",
              "    }\n",
              "</style>\n",
              "<table border=\"1\" class=\"dataframe\">\n",
              "  <thead>\n",
              "    <tr style=\"text-align: right;\">\n",
              "      <th></th>\n",
              "      <th>user_id</th>\n",
              "      <th>registration_date</th>\n",
              "    </tr>\n",
              "  </thead>\n",
              "  <tbody>\n",
              "    <tr>\n",
              "      <th>0</th>\n",
              "      <td>1</td>\n",
              "      <td>2020-01-01</td>\n",
              "    </tr>\n",
              "    <tr>\n",
              "      <th>1</th>\n",
              "      <td>2</td>\n",
              "      <td>2020-01-01</td>\n",
              "    </tr>\n",
              "    <tr>\n",
              "      <th>2</th>\n",
              "      <td>5</td>\n",
              "      <td>2020-01-01</td>\n",
              "    </tr>\n",
              "    <tr>\n",
              "      <th>3</th>\n",
              "      <td>6</td>\n",
              "      <td>2020-01-01</td>\n",
              "    </tr>\n",
              "    <tr>\n",
              "      <th>4</th>\n",
              "      <td>7</td>\n",
              "      <td>2020-01-01</td>\n",
              "    </tr>\n",
              "    <tr>\n",
              "      <th>...</th>\n",
              "      <td>...</td>\n",
              "      <td>...</td>\n",
              "    </tr>\n",
              "    <tr>\n",
              "      <th>2056</th>\n",
              "      <td>1953</td>\n",
              "      <td>2020-05-11</td>\n",
              "    </tr>\n",
              "    <tr>\n",
              "      <th>2057</th>\n",
              "      <td>2051</td>\n",
              "      <td>2020-05-11</td>\n",
              "    </tr>\n",
              "    <tr>\n",
              "      <th>2058</th>\n",
              "      <td>1969</td>\n",
              "      <td>2020-05-13</td>\n",
              "    </tr>\n",
              "    <tr>\n",
              "      <th>2059</th>\n",
              "      <td>2040</td>\n",
              "      <td>2020-05-15</td>\n",
              "    </tr>\n",
              "    <tr>\n",
              "      <th>2060</th>\n",
              "      <td>1946</td>\n",
              "      <td>2020-05-16</td>\n",
              "    </tr>\n",
              "  </tbody>\n",
              "</table>\n",
              "<p>2061 rows × 2 columns</p>\n",
              "</div>"
            ],
            "text/plain": [
              "      user_id registration_date\n",
              "0           1        2020-01-01\n",
              "1           2        2020-01-01\n",
              "2           5        2020-01-01\n",
              "3           6        2020-01-01\n",
              "4           7        2020-01-01\n",
              "...       ...               ...\n",
              "2056     1953        2020-05-11\n",
              "2057     2051        2020-05-11\n",
              "2058     1969        2020-05-13\n",
              "2059     2040        2020-05-15\n",
              "2060     1946        2020-05-16\n",
              "\n",
              "[2061 rows x 2 columns]"
            ]
          },
          "metadata": {
            "tags": []
          },
          "execution_count": 35
        }
      ]
    },
    {
      "cell_type": "markdown",
      "metadata": {
        "id": "2N_xwF7Yup2b",
        "colab_type": "text"
      },
      "source": [
        "## **Registrations and Common Table Expressions (CTEs)**\n",
        "\n",
        "Now that you have each user's registration date, you'll want to store the results somehow to use them in a different query. How do you do that?\n",
        "\n",
        "**Enter Common Table Expressions (CTEs)**\n",
        "\n",
        "```sql\n",
        "WITH cte_name AS (\n",
        "  ...\n",
        ")\n",
        "\n",
        "SELECT *\n",
        "FROM cte_name;\n",
        "```\n",
        "\n",
        "A CTE stores the results of a query temporarily in the specificed `cte_name` so it can be used in the outer query later on.\n",
        "\n",
        "Once you store the results of the previous query in a CTE, you can `DATE_TRUNC()` the registration dates and count the unique `user_id`s in each registration month."
      ]
    },
    {
      "cell_type": "code",
      "metadata": {
        "id": "nFfDu_aQm9dD",
        "colab_type": "code",
        "colab": {
          "base_uri": "https://localhost:8080/",
          "height": 221
        },
        "outputId": "e1d7fe89-fdaf-42b9-c02b-d2f6a6e9c8dd"
      },
      "source": [
        "%%sql\n",
        "\n",
        "-- Store each user's registration date in the regs CTE\n",
        "-- Calculate the number of registrations per month\n",
        "\n",
        "WITH regs AS (\n",
        "    -- where we write our query\n",
        "  SELECT \n",
        "    user_id,\n",
        "    MIN(session_date) AS registration_date\n",
        "  FROM user_sessions\n",
        "  GROUP BY user_id\n",
        ")\n",
        "\n",
        "SELECT \n",
        "  DATE_TRUNC('month', registration_date) :: DATE AS registration_month,\n",
        "  COUNT(DISTINCT user_id) AS users\n",
        "FROM regs\n",
        "GROUP BY registration_month\n",
        "ORDER BY registration_month ASC;"
      ],
      "execution_count": null,
      "outputs": [
        {
          "output_type": "stream",
          "text": [
            " * postgresql+psycopg2://@/postgres\n"
          ],
          "name": "stdout"
        },
        {
          "output_type": "execute_result",
          "data": {
            "text/html": [
              "<div>\n",
              "<style scoped>\n",
              "    .dataframe tbody tr th:only-of-type {\n",
              "        vertical-align: middle;\n",
              "    }\n",
              "\n",
              "    .dataframe tbody tr th {\n",
              "        vertical-align: top;\n",
              "    }\n",
              "\n",
              "    .dataframe thead th {\n",
              "        text-align: right;\n",
              "    }\n",
              "</style>\n",
              "<table border=\"1\" class=\"dataframe\">\n",
              "  <thead>\n",
              "    <tr style=\"text-align: right;\">\n",
              "      <th></th>\n",
              "      <th>registration_month</th>\n",
              "      <th>users</th>\n",
              "    </tr>\n",
              "  </thead>\n",
              "  <tbody>\n",
              "    <tr>\n",
              "      <th>0</th>\n",
              "      <td>2020-01-01</td>\n",
              "      <td>1472</td>\n",
              "    </tr>\n",
              "    <tr>\n",
              "      <th>1</th>\n",
              "      <td>2020-02-01</td>\n",
              "      <td>166</td>\n",
              "    </tr>\n",
              "    <tr>\n",
              "      <th>2</th>\n",
              "      <td>2020-03-01</td>\n",
              "      <td>147</td>\n",
              "    </tr>\n",
              "    <tr>\n",
              "      <th>3</th>\n",
              "      <td>2020-04-01</td>\n",
              "      <td>152</td>\n",
              "    </tr>\n",
              "    <tr>\n",
              "      <th>4</th>\n",
              "      <td>2020-05-01</td>\n",
              "      <td>124</td>\n",
              "    </tr>\n",
              "  </tbody>\n",
              "</table>\n",
              "</div>"
            ],
            "text/plain": [
              "  registration_month  users\n",
              "0         2020-01-01   1472\n",
              "1         2020-02-01    166\n",
              "2         2020-03-01    147\n",
              "3         2020-04-01    152\n",
              "4         2020-05-01    124"
            ]
          },
          "metadata": {
            "tags": []
          },
          "execution_count": 40
        }
      ]
    },
    {
      "cell_type": "markdown",
      "metadata": {
        "id": "txxa2OVBvuYW",
        "colab_type": "text"
      },
      "source": [
        "## **Growth and window functions**\n",
        "\n",
        "You now have each month's registrations. How do you calculate growth?\n",
        "\n",
        "`Growth = (Current month - previous month) / previous month`\n",
        "\n",
        "For example, if you had 122 registrations last month, and you have 156 registrations this month, your registrations grew by `(156 - 122) / 122 ~= 28%` this month.\n",
        "\n",
        "So you need both the previous and the current months' registrations in the same row. How do you do that?\n",
        "\n",
        "**Window functions**\n",
        "\n",
        "A window function performs some operation across a set of table rows that are somehow related to the current row.\n",
        "\n",
        "- `LAG(column_a, 1) OVER (ORDER BY column_b ASC)` Gets the previous row's value in `column_a` if you sort by `column_b`."
      ]
    },
    {
      "cell_type": "code",
      "metadata": {
        "id": "BKg-pJpjoS4F",
        "colab_type": "code",
        "colab": {
          "base_uri": "https://localhost:8080/",
          "height": 221
        },
        "outputId": "a9bca93d-8230-4267-8ca8-c25558375cb0"
      },
      "source": [
        "%%sql\n",
        "-- Fetch the previous and current months' MAUs\n",
        "\n",
        "WITH regs AS (\n",
        "SELECT \n",
        "  user_id,\n",
        "  MIN(session_date) AS registration_date\n",
        "FROM user_sessions\n",
        "GROUP BY user_id),\n",
        "\n",
        "    monthly_regs AS (\n",
        "    SELECT\n",
        "      DATE_TRUNC('month', registration_date) :: DATE AS registration_month,\n",
        "      COUNT(DISTINCT user_id) AS users\n",
        "    FROM regs\n",
        "    GROUP BY registration_month\n",
        "     ),\n",
        "\n",
        "  prev_regs AS (  \n",
        "  SELECT \n",
        "    registration_month,\n",
        "    users,\n",
        "    LAG(users, 1) OVER (ORDER BY registration_month ASC) AS prev_reg\n",
        "  FROM monthly_regs\n",
        "  )\n",
        "\n",
        "  SELECT \n",
        "    registration_month,\n",
        "    users,\n",
        "    COALESCE(prev_reg, 1) AS prev_reg\n",
        "  FROM prev_regs\n",
        "  ORDER BY registration_month ASC;"
      ],
      "execution_count": null,
      "outputs": [
        {
          "output_type": "stream",
          "text": [
            " * postgresql+psycopg2://@/postgres\n"
          ],
          "name": "stdout"
        },
        {
          "output_type": "execute_result",
          "data": {
            "text/html": [
              "<div>\n",
              "<style scoped>\n",
              "    .dataframe tbody tr th:only-of-type {\n",
              "        vertical-align: middle;\n",
              "    }\n",
              "\n",
              "    .dataframe tbody tr th {\n",
              "        vertical-align: top;\n",
              "    }\n",
              "\n",
              "    .dataframe thead th {\n",
              "        text-align: right;\n",
              "    }\n",
              "</style>\n",
              "<table border=\"1\" class=\"dataframe\">\n",
              "  <thead>\n",
              "    <tr style=\"text-align: right;\">\n",
              "      <th></th>\n",
              "      <th>registration_month</th>\n",
              "      <th>users</th>\n",
              "      <th>prev_reg</th>\n",
              "    </tr>\n",
              "  </thead>\n",
              "  <tbody>\n",
              "    <tr>\n",
              "      <th>0</th>\n",
              "      <td>2020-01-01</td>\n",
              "      <td>1472</td>\n",
              "      <td>1</td>\n",
              "    </tr>\n",
              "    <tr>\n",
              "      <th>1</th>\n",
              "      <td>2020-02-01</td>\n",
              "      <td>166</td>\n",
              "      <td>1472</td>\n",
              "    </tr>\n",
              "    <tr>\n",
              "      <th>2</th>\n",
              "      <td>2020-03-01</td>\n",
              "      <td>147</td>\n",
              "      <td>166</td>\n",
              "    </tr>\n",
              "    <tr>\n",
              "      <th>3</th>\n",
              "      <td>2020-04-01</td>\n",
              "      <td>152</td>\n",
              "      <td>147</td>\n",
              "    </tr>\n",
              "    <tr>\n",
              "      <th>4</th>\n",
              "      <td>2020-05-01</td>\n",
              "      <td>124</td>\n",
              "      <td>152</td>\n",
              "    </tr>\n",
              "  </tbody>\n",
              "</table>\n",
              "</div>"
            ],
            "text/plain": [
              "  registration_month  users  prev_reg\n",
              "0         2020-01-01   1472         1\n",
              "1         2020-02-01    166      1472\n",
              "2         2020-03-01    147       166\n",
              "3         2020-04-01    152       147\n",
              "4         2020-05-01    124       152"
            ]
          },
          "metadata": {
            "tags": []
          },
          "execution_count": 57
        }
      ]
    },
    {
      "cell_type": "markdown",
      "metadata": {
        "id": "JFNbQqVjyyvn",
        "colab_type": "text"
      },
      "source": [
        "Store the results in a CTE and apply the formula to get the monthly registrations growth rates. You can use `COALESCE(..., 1)` to convert any `NULL` values to 1."
      ]
    },
    {
      "cell_type": "code",
      "metadata": {
        "id": "teCiC7UOpPfi",
        "colab_type": "code",
        "colab": {
          "base_uri": "https://localhost:8080/",
          "height": 221
        },
        "outputId": "54ad8a34-8a11-4236-c323-83678ffb53ec"
      },
      "source": [
        "%%sql\n",
        "\n",
        "-- Calculate the monthly growth in registrations\n",
        "WITH regs AS (\n",
        "SELECT \n",
        "  user_id,\n",
        "  MIN(session_date) AS registration_date\n",
        "FROM user_sessions\n",
        "GROUP BY user_id),\n",
        "\n",
        "    monthly_regs AS (\n",
        "    SELECT\n",
        "      DATE_TRUNC('month', registration_date) :: DATE AS registration_month,\n",
        "      COUNT(DISTINCT user_id) AS users\n",
        "    FROM regs\n",
        "    GROUP BY registration_month\n",
        "     ),\n",
        "\n",
        "  prev_regs AS (  \n",
        "  SELECT \n",
        "    registration_month,\n",
        "    users,\n",
        "    LAG(users, 1) OVER (ORDER BY registration_month ASC) AS prev_reg\n",
        "  FROM monthly_regs\n",
        "  )\n",
        "\n",
        "  SELECT\n",
        "    registration_month,\n",
        "    ROUND(\n",
        "    (users - COALESCE(prev_reg,1)) :: NUMERIC / COALESCE(prev_reg,1),3) AS growth_rate\n",
        "  FROM prev_regs\n",
        "  ORDER BY registration_month ASC;\n",
        "  "
      ],
      "execution_count": null,
      "outputs": [
        {
          "output_type": "stream",
          "text": [
            " * postgresql+psycopg2://@/postgres\n"
          ],
          "name": "stdout"
        },
        {
          "output_type": "execute_result",
          "data": {
            "text/html": [
              "<div>\n",
              "<style scoped>\n",
              "    .dataframe tbody tr th:only-of-type {\n",
              "        vertical-align: middle;\n",
              "    }\n",
              "\n",
              "    .dataframe tbody tr th {\n",
              "        vertical-align: top;\n",
              "    }\n",
              "\n",
              "    .dataframe thead th {\n",
              "        text-align: right;\n",
              "    }\n",
              "</style>\n",
              "<table border=\"1\" class=\"dataframe\">\n",
              "  <thead>\n",
              "    <tr style=\"text-align: right;\">\n",
              "      <th></th>\n",
              "      <th>registration_month</th>\n",
              "      <th>growth_rate</th>\n",
              "    </tr>\n",
              "  </thead>\n",
              "  <tbody>\n",
              "    <tr>\n",
              "      <th>0</th>\n",
              "      <td>2020-01-01</td>\n",
              "      <td>1471.000</td>\n",
              "    </tr>\n",
              "    <tr>\n",
              "      <th>1</th>\n",
              "      <td>2020-02-01</td>\n",
              "      <td>-0.887</td>\n",
              "    </tr>\n",
              "    <tr>\n",
              "      <th>2</th>\n",
              "      <td>2020-03-01</td>\n",
              "      <td>-0.114</td>\n",
              "    </tr>\n",
              "    <tr>\n",
              "      <th>3</th>\n",
              "      <td>2020-04-01</td>\n",
              "      <td>0.034</td>\n",
              "    </tr>\n",
              "    <tr>\n",
              "      <th>4</th>\n",
              "      <td>2020-05-01</td>\n",
              "      <td>-0.184</td>\n",
              "    </tr>\n",
              "  </tbody>\n",
              "</table>\n",
              "</div>"
            ],
            "text/plain": [
              "  registration_month growth_rate\n",
              "0         2020-01-01    1471.000\n",
              "1         2020-02-01      -0.887\n",
              "2         2020-03-01      -0.114\n",
              "3         2020-04-01       0.034\n",
              "4         2020-05-01      -0.184"
            ]
          },
          "metadata": {
            "tags": []
          },
          "execution_count": 56
        }
      ]
    },
    {
      "cell_type": "markdown",
      "metadata": {
        "id": "5f1gf7yP4v0r",
        "colab_type": "text"
      },
      "source": [
        "## **Q&A**"
      ]
    },
    {
      "cell_type": "markdown",
      "metadata": {
        "id": "oEzlg4iF0UJ0",
        "colab_type": "text"
      },
      "source": [
        "## **Retained and resurrected users**\n",
        "\n",
        "Users can be split into four groups:\n",
        "- New/registered users are ones that just signed up for your platform\n",
        "- Retained users used to use your app, and still do, too.\n",
        "- Churned users used to use your app, and no longer do.\n",
        "- Resurrected users were churned users who returned to using your app.\n",
        "\n",
        "Retention is another core KPI that platforms use to measure how well they are at keeping their users.\n",
        "\n",
        "The first step to calculating retention is getting each of the months in which each user is active."
      ]
    },
    {
      "cell_type": "code",
      "metadata": {
        "id": "LiILc4mRrLmJ",
        "colab_type": "code",
        "colab": {
          "base_uri": "https://localhost:8080/",
          "height": 436
        },
        "outputId": "47d162c9-bfeb-4ac1-b1a5-6f4e80c0f77a"
      },
      "source": [
        "%%sql\n",
        "\n",
        "-- Get the months in which each user is active\n",
        "SELECT DISTINCT\n",
        "  DATE_TRUNC('month', session_date) :: DATE AS month_active,\n",
        "  user_id\n",
        "FROM user_sessions\n",
        "ORDER BY month_active ASC, user_id ASC;\n"
      ],
      "execution_count": null,
      "outputs": [
        {
          "output_type": "stream",
          "text": [
            " * postgresql+psycopg2://@/postgres\n"
          ],
          "name": "stdout"
        },
        {
          "output_type": "execute_result",
          "data": {
            "text/html": [
              "<div>\n",
              "<style scoped>\n",
              "    .dataframe tbody tr th:only-of-type {\n",
              "        vertical-align: middle;\n",
              "    }\n",
              "\n",
              "    .dataframe tbody tr th {\n",
              "        vertical-align: top;\n",
              "    }\n",
              "\n",
              "    .dataframe thead th {\n",
              "        text-align: right;\n",
              "    }\n",
              "</style>\n",
              "<table border=\"1\" class=\"dataframe\">\n",
              "  <thead>\n",
              "    <tr style=\"text-align: right;\">\n",
              "      <th></th>\n",
              "      <th>month_active</th>\n",
              "      <th>user_id</th>\n",
              "    </tr>\n",
              "  </thead>\n",
              "  <tbody>\n",
              "    <tr>\n",
              "      <th>0</th>\n",
              "      <td>2020-01-01</td>\n",
              "      <td>0</td>\n",
              "    </tr>\n",
              "    <tr>\n",
              "      <th>1</th>\n",
              "      <td>2020-01-01</td>\n",
              "      <td>1</td>\n",
              "    </tr>\n",
              "    <tr>\n",
              "      <th>2</th>\n",
              "      <td>2020-01-01</td>\n",
              "      <td>2</td>\n",
              "    </tr>\n",
              "    <tr>\n",
              "      <th>3</th>\n",
              "      <td>2020-01-01</td>\n",
              "      <td>3</td>\n",
              "    </tr>\n",
              "    <tr>\n",
              "      <th>4</th>\n",
              "      <td>2020-01-01</td>\n",
              "      <td>4</td>\n",
              "    </tr>\n",
              "    <tr>\n",
              "      <th>...</th>\n",
              "      <td>...</td>\n",
              "      <td>...</td>\n",
              "    </tr>\n",
              "    <tr>\n",
              "      <th>8685</th>\n",
              "      <td>2020-05-01</td>\n",
              "      <td>2056</td>\n",
              "    </tr>\n",
              "    <tr>\n",
              "      <th>8686</th>\n",
              "      <td>2020-05-01</td>\n",
              "      <td>2057</td>\n",
              "    </tr>\n",
              "    <tr>\n",
              "      <th>8687</th>\n",
              "      <td>2020-05-01</td>\n",
              "      <td>2058</td>\n",
              "    </tr>\n",
              "    <tr>\n",
              "      <th>8688</th>\n",
              "      <td>2020-05-01</td>\n",
              "      <td>2059</td>\n",
              "    </tr>\n",
              "    <tr>\n",
              "      <th>8689</th>\n",
              "      <td>2020-05-01</td>\n",
              "      <td>2060</td>\n",
              "    </tr>\n",
              "  </tbody>\n",
              "</table>\n",
              "<p>8690 rows × 2 columns</p>\n",
              "</div>"
            ],
            "text/plain": [
              "     month_active  user_id\n",
              "0      2020-01-01        0\n",
              "1      2020-01-01        1\n",
              "2      2020-01-01        2\n",
              "3      2020-01-01        3\n",
              "4      2020-01-01        4\n",
              "...           ...      ...\n",
              "8685   2020-05-01     2056\n",
              "8686   2020-05-01     2057\n",
              "8687   2020-05-01     2058\n",
              "8688   2020-05-01     2059\n",
              "8689   2020-05-01     2060\n",
              "\n",
              "[8690 rows x 2 columns]"
            ]
          },
          "metadata": {
            "tags": []
          },
          "execution_count": 60
        }
      ]
    },
    {
      "cell_type": "markdown",
      "metadata": {
        "id": "1NyCdBWR2pO-",
        "colab_type": "text"
      },
      "source": [
        "## **Self-joins**\n",
        "\n",
        "Now that you have the months in which each user is active, how do you calculate retention?\n",
        "\n",
        "![Left joins](https://user-images.githubusercontent.com/48436758/83518570-e4ff8c00-a4da-11ea-8a5a-25ea46df2bcc.png)\n",
        "\n",
        "If you left-join this table on itself on the same user ID and having a one-month difference in users, you'll see whether a user is still active in the next month or not. If the user isn't active, then the user is churned. The count of non-`NULL`s is the count of retained users.\n",
        "\n",
        "```sql\n",
        "...\n",
        "FROM ... AS prev\n",
        "LEFT JOIN ... AS curr\n",
        "  ON prev.user_id = curr.user_id\n",
        " AND prev.month = (curr.month - INTERVAL '1 MONTH')\n",
        "...\n",
        "```\n",
        "\n"
      ]
    },
    {
      "cell_type": "code",
      "metadata": {
        "id": "mcQbmTtF27OQ",
        "colab_type": "code",
        "colab": {
          "base_uri": "https://localhost:8080/",
          "height": 436
        },
        "outputId": "881044a7-689c-4742-b430-b22fdbb63086"
      },
      "source": [
        "%%sql\n",
        "\n",
        "-- Get whether each user churned in a given month\n",
        "WITH act_months AS (\n",
        "    SELECT DISTINCT\n",
        "      DATE_TRUNC('month', session_date) :: DATE AS month_active,\n",
        "      user_id\n",
        "    FROM user_sessions)\n",
        "\n",
        "SELECT \n",
        "    prev.user_id,\n",
        "    prev.month_active,\n",
        "    curr.month_active IS NULL AS churned_next_month\n",
        "FROM act_months AS prev\n",
        "LEFT JOIN act_months AS curr\n",
        "  ON prev.user_id = curr.user_id\n",
        "  AND prev.month_active = (curr.month_active - INTERVAL '1 MONTH')\n",
        "WHERE curr.month_active IS NULL\n",
        "ORDER BY prev.month_active ASC, prev.user_id ASC;"
      ],
      "execution_count": null,
      "outputs": [
        {
          "output_type": "stream",
          "text": [
            " * postgresql+psycopg2://@/postgres\n"
          ],
          "name": "stdout"
        },
        {
          "output_type": "execute_result",
          "data": {
            "text/html": [
              "<div>\n",
              "<style scoped>\n",
              "    .dataframe tbody tr th:only-of-type {\n",
              "        vertical-align: middle;\n",
              "    }\n",
              "\n",
              "    .dataframe tbody tr th {\n",
              "        vertical-align: top;\n",
              "    }\n",
              "\n",
              "    .dataframe thead th {\n",
              "        text-align: right;\n",
              "    }\n",
              "</style>\n",
              "<table border=\"1\" class=\"dataframe\">\n",
              "  <thead>\n",
              "    <tr style=\"text-align: right;\">\n",
              "      <th></th>\n",
              "      <th>user_id</th>\n",
              "      <th>month_active</th>\n",
              "      <th>churned_next_month</th>\n",
              "    </tr>\n",
              "  </thead>\n",
              "  <tbody>\n",
              "    <tr>\n",
              "      <th>0</th>\n",
              "      <td>34</td>\n",
              "      <td>2020-01-01</td>\n",
              "      <td>True</td>\n",
              "    </tr>\n",
              "    <tr>\n",
              "      <th>1</th>\n",
              "      <td>110</td>\n",
              "      <td>2020-01-01</td>\n",
              "      <td>True</td>\n",
              "    </tr>\n",
              "    <tr>\n",
              "      <th>2</th>\n",
              "      <td>147</td>\n",
              "      <td>2020-01-01</td>\n",
              "      <td>True</td>\n",
              "    </tr>\n",
              "    <tr>\n",
              "      <th>3</th>\n",
              "      <td>187</td>\n",
              "      <td>2020-01-01</td>\n",
              "      <td>True</td>\n",
              "    </tr>\n",
              "    <tr>\n",
              "      <th>4</th>\n",
              "      <td>216</td>\n",
              "      <td>2020-01-01</td>\n",
              "      <td>True</td>\n",
              "    </tr>\n",
              "    <tr>\n",
              "      <th>...</th>\n",
              "      <td>...</td>\n",
              "      <td>...</td>\n",
              "      <td>...</td>\n",
              "    </tr>\n",
              "    <tr>\n",
              "      <th>2188</th>\n",
              "      <td>2056</td>\n",
              "      <td>2020-05-01</td>\n",
              "      <td>True</td>\n",
              "    </tr>\n",
              "    <tr>\n",
              "      <th>2189</th>\n",
              "      <td>2057</td>\n",
              "      <td>2020-05-01</td>\n",
              "      <td>True</td>\n",
              "    </tr>\n",
              "    <tr>\n",
              "      <th>2190</th>\n",
              "      <td>2058</td>\n",
              "      <td>2020-05-01</td>\n",
              "      <td>True</td>\n",
              "    </tr>\n",
              "    <tr>\n",
              "      <th>2191</th>\n",
              "      <td>2059</td>\n",
              "      <td>2020-05-01</td>\n",
              "      <td>True</td>\n",
              "    </tr>\n",
              "    <tr>\n",
              "      <th>2192</th>\n",
              "      <td>2060</td>\n",
              "      <td>2020-05-01</td>\n",
              "      <td>True</td>\n",
              "    </tr>\n",
              "  </tbody>\n",
              "</table>\n",
              "<p>2193 rows × 3 columns</p>\n",
              "</div>"
            ],
            "text/plain": [
              "      user_id month_active  churned_next_month\n",
              "0          34   2020-01-01                True\n",
              "1         110   2020-01-01                True\n",
              "2         147   2020-01-01                True\n",
              "3         187   2020-01-01                True\n",
              "4         216   2020-01-01                True\n",
              "...       ...          ...                 ...\n",
              "2188     2056   2020-05-01                True\n",
              "2189     2057   2020-05-01                True\n",
              "2190     2058   2020-05-01                True\n",
              "2191     2059   2020-05-01                True\n",
              "2192     2060   2020-05-01                True\n",
              "\n",
              "[2193 rows x 3 columns]"
            ]
          },
          "metadata": {
            "tags": []
          },
          "execution_count": 66
        }
      ]
    },
    {
      "cell_type": "markdown",
      "metadata": {
        "id": "ocFiH81H5Rgu",
        "colab_type": "text"
      },
      "source": [
        "Store the results in a CTE and count the number of `FALSE` in the `churned_next_month` to get the retention rate."
      ]
    },
    {
      "cell_type": "code",
      "metadata": {
        "id": "fZJd5X7Y5CNN",
        "colab_type": "code",
        "colab": {
          "base_uri": "https://localhost:8080/",
          "height": 221
        },
        "outputId": "19c5d63e-859b-4446-cd6d-8e022557d00b"
      },
      "source": [
        "%%sql\n",
        "\n",
        "-- Calculate the retention rate\n",
        "WITH act_months AS (\n",
        "    SELECT DISTINCT\n",
        "      DATE_TRUNC('month', session_date) :: DATE AS month_active,\n",
        "      user_id\n",
        "    FROM user_sessions),\n",
        "\n",
        "    churned AS (\n",
        "SELECT \n",
        "    prev.user_id,\n",
        "    prev.month_active,\n",
        "    curr.month_active IS NULL AS churned_next_month\n",
        "FROM act_months AS prev\n",
        "LEFT JOIN act_months AS curr\n",
        "  ON prev.user_id = curr.user_id\n",
        "  AND prev.month_active = (curr.month_active - INTERVAL '1 MONTH')\n",
        "    )\n",
        "\n",
        "SELECT \n",
        "  month_active,\n",
        "  COUNT(DISTINCT user_id) AS active_users,\n",
        "  SUM( CASE WHEN churned_next_month THEN 0 ELSE 1 END\n",
        "  ) AS retained_users,\n",
        "  ROUND(\n",
        "       SUM(\n",
        "      CASE WHEN churned_next_month THEN 0 ELSE 1 END) :: NUMERIC /\n",
        "        COUNT(DISTINCT user_id),2  ) AS retention_rate\n",
        "FROM churned\n",
        "GROUP BY month_active\n",
        "ORDER BY month_active ASC;"
      ],
      "execution_count": null,
      "outputs": [
        {
          "output_type": "stream",
          "text": [
            " * postgresql+psycopg2://@/postgres\n"
          ],
          "name": "stdout"
        },
        {
          "output_type": "execute_result",
          "data": {
            "text/html": [
              "<div>\n",
              "<style scoped>\n",
              "    .dataframe tbody tr th:only-of-type {\n",
              "        vertical-align: middle;\n",
              "    }\n",
              "\n",
              "    .dataframe tbody tr th {\n",
              "        vertical-align: top;\n",
              "    }\n",
              "\n",
              "    .dataframe thead th {\n",
              "        text-align: right;\n",
              "    }\n",
              "</style>\n",
              "<table border=\"1\" class=\"dataframe\">\n",
              "  <thead>\n",
              "    <tr style=\"text-align: right;\">\n",
              "      <th></th>\n",
              "      <th>month_active</th>\n",
              "      <th>active_users</th>\n",
              "      <th>retained_users</th>\n",
              "      <th>retention_rate</th>\n",
              "    </tr>\n",
              "  </thead>\n",
              "  <tbody>\n",
              "    <tr>\n",
              "      <th>0</th>\n",
              "      <td>2020-01-01</td>\n",
              "      <td>1472</td>\n",
              "      <td>1455</td>\n",
              "      <td>0.99</td>\n",
              "    </tr>\n",
              "    <tr>\n",
              "      <th>1</th>\n",
              "      <td>2020-02-01</td>\n",
              "      <td>1621</td>\n",
              "      <td>1559</td>\n",
              "      <td>0.96</td>\n",
              "    </tr>\n",
              "    <tr>\n",
              "      <th>2</th>\n",
              "      <td>2020-03-01</td>\n",
              "      <td>1723</td>\n",
              "      <td>1667</td>\n",
              "      <td>0.97</td>\n",
              "    </tr>\n",
              "    <tr>\n",
              "      <th>3</th>\n",
              "      <td>2020-04-01</td>\n",
              "      <td>1879</td>\n",
              "      <td>1816</td>\n",
              "      <td>0.97</td>\n",
              "    </tr>\n",
              "    <tr>\n",
              "      <th>4</th>\n",
              "      <td>2020-05-01</td>\n",
              "      <td>1995</td>\n",
              "      <td>0</td>\n",
              "      <td>0.00</td>\n",
              "    </tr>\n",
              "  </tbody>\n",
              "</table>\n",
              "</div>"
            ],
            "text/plain": [
              "  month_active  active_users  retained_users retention_rate\n",
              "0   2020-01-01          1472            1455           0.99\n",
              "1   2020-02-01          1621            1559           0.96\n",
              "2   2020-03-01          1723            1667           0.97\n",
              "3   2020-04-01          1879            1816           0.97\n",
              "4   2020-05-01          1995               0           0.00"
            ]
          },
          "metadata": {
            "tags": []
          },
          "execution_count": 73
        }
      ]
    },
    {
      "cell_type": "markdown",
      "metadata": {
        "id": "vjhqpm3FkUa3",
        "colab_type": "text"
      },
      "source": [
        "## **Average age of churners**\n",
        "\n",
        "Now that you have the retention status of each user, you can see whether there are any trends in churns, such as older people churning more.\n"
      ]
    },
    {
      "cell_type": "code",
      "metadata": {
        "id": "hIYNx8m-kYhN",
        "colab_type": "code",
        "colab": {
          "base_uri": "https://localhost:8080/",
          "height": 128
        },
        "outputId": "75bae724-0378-4c26-8461-e8bc560a3487"
      },
      "source": [
        "%%sql\n",
        "\n",
        "-- Get the average age of churners versus retained users in April\n",
        "WITH act_months AS (\n",
        "    SELECT DISTINCT\n",
        "      DATE_TRUNC('month', session_date) :: DATE AS month_active,\n",
        "      user_id\n",
        "    FROM user_sessions),\n",
        "\n",
        "    churned AS (\n",
        "SELECT \n",
        "    prev.user_id,\n",
        "    prev.month_active,\n",
        "    curr.month_active IS NULL AS churned_next_month\n",
        "FROM act_months AS prev\n",
        "LEFT JOIN act_months AS curr\n",
        "  ON prev.user_id = curr.user_id\n",
        "  AND prev.month_active = (curr.month_active - INTERVAL '1 MONTH')\n",
        "    )\n",
        "\n",
        "    SELECT  \n",
        "        churned_next_month,\n",
        "        ROUND(AVG(age),2) AS avg_age\n",
        "    FROM churned\n",
        "    JOIN user_data ON churned.user_id = user_data.user_id\n",
        "    WHERE month_active = '2020-04-01'\n",
        "    GROUP BY churned_next_month"
      ],
      "execution_count": null,
      "outputs": [
        {
          "output_type": "stream",
          "text": [
            " * postgresql+psycopg2://@/postgres\n"
          ],
          "name": "stdout"
        },
        {
          "output_type": "execute_result",
          "data": {
            "text/html": [
              "<div>\n",
              "<style scoped>\n",
              "    .dataframe tbody tr th:only-of-type {\n",
              "        vertical-align: middle;\n",
              "    }\n",
              "\n",
              "    .dataframe tbody tr th {\n",
              "        vertical-align: top;\n",
              "    }\n",
              "\n",
              "    .dataframe thead th {\n",
              "        text-align: right;\n",
              "    }\n",
              "</style>\n",
              "<table border=\"1\" class=\"dataframe\">\n",
              "  <thead>\n",
              "    <tr style=\"text-align: right;\">\n",
              "      <th></th>\n",
              "      <th>churned_next_month</th>\n",
              "      <th>avg_age</th>\n",
              "    </tr>\n",
              "  </thead>\n",
              "  <tbody>\n",
              "    <tr>\n",
              "      <th>0</th>\n",
              "      <td>False</td>\n",
              "      <td>41.52</td>\n",
              "    </tr>\n",
              "    <tr>\n",
              "      <th>1</th>\n",
              "      <td>True</td>\n",
              "      <td>40.30</td>\n",
              "    </tr>\n",
              "  </tbody>\n",
              "</table>\n",
              "</div>"
            ],
            "text/plain": [
              "   churned_next_month avg_age\n",
              "0               False   41.52\n",
              "1                True   40.30"
            ]
          },
          "metadata": {
            "tags": []
          },
          "execution_count": 76
        }
      ]
    },
    {
      "cell_type": "markdown",
      "metadata": {
        "id": "tBCRa0Ba4xK2",
        "colab_type": "text"
      },
      "source": [
        "## **Q&A**"
      ]
    }
  ]
}