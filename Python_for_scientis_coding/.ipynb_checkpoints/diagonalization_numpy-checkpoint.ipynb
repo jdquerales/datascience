{
 "cells": [
  {
   "cell_type": "code",
   "execution_count": 2,
   "metadata": {},
   "outputs": [],
   "source": [
    "import numpy as np\n",
    "#from numpy import linalg as LA\n",
    "from scipy import linalg as LA\n"
   ]
  },
  {
   "cell_type": "code",
   "execution_count": 4,
   "metadata": {},
   "outputs": [],
   "source": [
    "# Dynamical matrix Bi2Te3\n",
    "\n",
    "w, v = LA.eigh(np.array ( [  [ 10.1346,  -6.89213, -0.957313, 0.307158, -0.212557], \n",
    "                             [ -6.89213, 8.90451, -3.06139, -1.07833, 0.307158 ], \n",
    "                             [-0.957313, -3.06139, 9.88004, -3.06139, -0.957313], \n",
    "                             [ 0.307158, -1.07833, -3.06139, 8.90451, -6.89213 ],\n",
    "                             [ -0.212557, 0.307158, -0.957313, -6.89213, 10.1346] ] ) )"
   ]
  },
  {
   "cell_type": "code",
   "execution_count": 10,
   "metadata": {},
   "outputs": [
    {
     "data": {
      "text/plain": [
       "array([0.58378366, 1.72145472, 3.3341934 , 4.0212702 , 4.16732416])"
      ]
     },
     "execution_count": 10,
     "metadata": {},
     "output_type": "execute_result"
    }
   ],
   "source": [
    "np.sqrt(w)"
   ]
  },
  {
   "cell_type": "code",
   "execution_count": 5,
   "metadata": {
    "scrolled": true
   },
   "outputs": [
    {
     "data": {
      "text/plain": [
       "array([[-3.92880291e-01,  4.93635949e-01,  3.67051027e-01,\n",
       "         4.59258773e-01,  5.06284060e-01],\n",
       "       [-5.12372979e-01,  5.06284060e-01,  5.71029272e-02,\n",
       "        -4.83955769e-01, -4.93635949e-01],\n",
       "       [-4.07722965e-01,  1.22124533e-15, -8.50896937e-01,\n",
       "         3.31264827e-01,  2.22044605e-16],\n",
       "       [-5.12372979e-01, -5.06284060e-01,  5.71029272e-02,\n",
       "        -4.83955769e-01,  4.93635949e-01],\n",
       "       [-3.92880291e-01, -4.93635949e-01,  3.67051027e-01,\n",
       "         4.59258773e-01, -5.06284060e-01]])"
      ]
     },
     "execution_count": 5,
     "metadata": {},
     "output_type": "execute_result"
    }
   ],
   "source": [
    "v"
   ]
  },
  {
   "cell_type": "code",
   "execution_count": 9,
   "metadata": {},
   "outputs": [
    {
     "data": {
      "text/plain": [
       "array([[ 3.92880291e-01,  4.93635949e-01,  3.67051027e-01,\n",
       "        -5.06284060e-01,  4.59258773e-01],\n",
       "       [ 5.12372979e-01,  5.06284060e-01,  5.71029272e-02,\n",
       "         4.93635949e-01, -4.83955769e-01],\n",
       "       [ 4.07722965e-01, -4.10885748e-17, -8.50896937e-01,\n",
       "        -2.11009454e-15,  3.31264827e-01],\n",
       "       [ 5.12372979e-01, -5.06284060e-01,  5.71029272e-02,\n",
       "        -4.93635949e-01, -4.83955769e-01],\n",
       "       [ 3.92880291e-01, -4.93635949e-01,  3.67051027e-01,\n",
       "         5.06284060e-01,  4.59258773e-01]])"
      ]
     },
     "execution_count": 9,
     "metadata": {},
     "output_type": "execute_result"
    }
   ],
   "source": [
    "a = np.array ( [  [ 10.1346,  -6.89213, -0.957313, 0.307158, -0.212557], \n",
    "    [ -6.89213, 8.90451, -3.06139, -1.07833, 0.307158 ], \n",
    "    [-0.957313, -3.06139, 9.88004, -3.06139, -0.957313], \n",
    "    [ 0.307158, -1.07833, -3.06139, 8.90451, -6.89213 ],\n",
    "    [ -0.212557, 0.307158, -0.957313, -6.89213, 10.1346] ] )\n",
    "\n",
    "\n",
    "k, l = LA.eig( a, left=True, right=False, homogeneous_eigvals=True)\n",
    "\n",
    "l\n"
   ]
  },
  {
   "cell_type": "code",
   "execution_count": 11,
   "metadata": {},
   "outputs": [
    {
     "data": {
      "text/plain": [
       "array([0.80826113, 2.0717263 , 4.34631055, 4.96458252, 5.11056446])"
      ]
     },
     "execution_count": 11,
     "metadata": {},
     "output_type": "execute_result"
    }
   ],
   "source": [
    "# Dynamical matrix Bi2Se3\n",
    "\n",
    "p, q = LA.eigh(np.array ( [  [ 18.4726, -9.8594, -1.20707, 0.434898, -0.354379], \n",
    "                             [ -9.8594, 10.2661, -4.46419, -1.31684, 0.434898 ], \n",
    "                             [-1.20707, -4.46419, 17.1233, -4.46419, -1.20707], \n",
    "                             [ 0.434898, -1.31684, -4.46419, 10.2661, -9.8594 ],\n",
    "                             [ -0.354379, 0.434898, -1.20707, -9.8594, 18.4726] ] ) )\n",
    "\n",
    "\n",
    "np.sqrt(p)"
   ]
  },
  {
   "cell_type": "code",
   "execution_count": 12,
   "metadata": {},
   "outputs": [
    {
     "data": {
      "text/plain": [
       "array([[-3.32539303e-01,  4.08686227e-01,  3.25824923e-01,\n",
       "         5.32217748e-01,  5.77040352e-01],\n",
       "       [-5.70396340e-01,  5.77040352e-01,  8.59041652e-02,\n",
       "        -4.08984706e-01, -4.08686227e-01],\n",
       "       [-3.57954263e-01,  7.21644966e-16, -8.79157090e-01,\n",
       "         3.14565664e-01, -3.74700271e-16],\n",
       "       [-5.70396340e-01, -5.77040352e-01,  8.59041652e-02,\n",
       "        -4.08984706e-01,  4.08686227e-01],\n",
       "       [-3.32539303e-01, -4.08686227e-01,  3.25824923e-01,\n",
       "         5.32217748e-01, -5.77040352e-01]])"
      ]
     },
     "execution_count": 12,
     "metadata": {},
     "output_type": "execute_result"
    }
   ],
   "source": [
    "q"
   ]
  }
 ],
 "metadata": {
  "kernelspec": {
   "display_name": "Python 3",
   "language": "python",
   "name": "python3"
  },
  "language_info": {
   "codemirror_mode": {
    "name": "ipython",
    "version": 3
   },
   "file_extension": ".py",
   "mimetype": "text/x-python",
   "name": "python",
   "nbconvert_exporter": "python",
   "pygments_lexer": "ipython3",
   "version": "3.7.6"
  }
 },
 "nbformat": 4,
 "nbformat_minor": 2
}
